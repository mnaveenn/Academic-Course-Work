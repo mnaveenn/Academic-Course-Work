{
 "cells": [
  {
   "cell_type": "code",
   "execution_count": 1,
   "metadata": {},
   "outputs": [
    {
     "ename": "ModuleNotFoundError",
     "evalue": "No module named 'Huffman_Encoding'",
     "output_type": "error",
     "traceback": [
      "\u001b[1;31m---------------------------------------------------------------------------\u001b[0m",
      "\u001b[1;31mModuleNotFoundError\u001b[0m                       Traceback (most recent call last)",
      "\u001b[1;32m<ipython-input-1-eb049f8069f2>\u001b[0m in \u001b[0;36m<module>\u001b[1;34m\u001b[0m\n\u001b[1;32m----> 1\u001b[1;33m \u001b[1;32mfrom\u001b[0m \u001b[0mHuffman_Encoding\u001b[0m \u001b[1;32mimport\u001b[0m \u001b[0mencode_file\u001b[0m\u001b[1;33m,\u001b[0m \u001b[0mdecode_file\u001b[0m\u001b[1;33m\u001b[0m\u001b[1;33m\u001b[0m\u001b[0m\n\u001b[0m\u001b[0;32m      2\u001b[0m \u001b[1;32mimport\u001b[0m \u001b[0mpickle\u001b[0m \u001b[1;32mas\u001b[0m \u001b[0mpkl\u001b[0m\u001b[1;33m\u001b[0m\u001b[1;33m\u001b[0m\u001b[0m\n\u001b[0;32m      3\u001b[0m \u001b[1;32mimport\u001b[0m \u001b[0mos\u001b[0m\u001b[1;33m\u001b[0m\u001b[1;33m\u001b[0m\u001b[0m\n\u001b[0;32m      4\u001b[0m \u001b[1;33m\u001b[0m\u001b[0m\n\u001b[0;32m      5\u001b[0m \u001b[1;33m\u001b[0m\u001b[0m\n",
      "\u001b[1;31mModuleNotFoundError\u001b[0m: No module named 'Huffman_Encoding'"
     ]
    }
   ],
   "source": [
    "from Huffman_Encoding import encode_file, decode_file\n",
    "import pickle as pkl\n",
    "import os\n",
    "\n",
    "\n",
    "def compress_file(input_file, output_file=\"\"):\n",
    "    encode_table = {}\n",
    "    if not output_file:\n",
    "        output_file = os.path.splitext(input_file)[0]+\"_compressed.bin\"\n",
    "    try:\n",
    "        with open('encoded.pkl', 'rb') as encoded_data:\n",
    "            encode_table = pkl.load(encoded_data)\n",
    "        return encode_file(encode_table, input_file, output_file)\n",
    "    except IOError:\n",
    "        print(\"File not found\")\n",
    "        return False\n",
    "    except Exception as e:\n",
    "        print(e)\n",
    "        return False\n",
    "\n",
    "\n",
    "def decompress_file(input_file, output_file=\"\"):\n",
    "    decode_table = {}\n",
    "    if not output_file:\n",
    "        output_file = os.path.splitext(input_file)[0]+\"_decompressed.txt\"\n",
    "    try:\n",
    "        with open('decoded.pkl', 'rb') as decode_data:\n",
    "            decode_table = pkl.load(decode_data)\n",
    "        return decode_file(decode_table, input_file, output_file)\n",
    "    except IOError:\n",
    "        print(\"File not Found\")\n",
    "        return False\n",
    "    except Exception as e:\n",
    "        print(e)\n",
    "        return False\n",
    "\n",
    "\n",
    "\n",
    "\n",
    "if __name__ == \"__main__\":\n",
    "    \n",
    "    action = \"\"\n",
    "    input_file = \"\"\n",
    "    while not action:\n",
    "        action = input(\"enter the action (compress/decompress): \").lower().strip()\n",
    "    \n",
    "    if action == \"compress\":\n",
    "        while not input_file:\n",
    "            input_file = input(\"enter the text file to compress: \").strip()\n",
    "            if input_file and os.path.splitext(input_file)[-1] != '.txt':\n",
    "                print(\"Please enter a valid file format!!\")\n",
    "                input_file = \"\"\n",
    "    \n",
    "        if compress_file(input_file):\n",
    "            print(\"Compression Successfull\")\n",
    "        else:\n",
    "            print(\"Compression Fail\")\n",
    "\n",
    "    \n",
    "    elif action == \"decompress\":\n",
    "        while not input_file:\n",
    "            input_file = input(\"enter the text file to decompress: \").strip()\n",
    "            if input_file and os.path.splitext(input_file)[-1] != '.bin':\n",
    "                print(\"Please enter a valid file format!!\")\n",
    "                input_file = \"\"\n",
    "        \n",
    "        if decompress_file(input_file):\n",
    "            print(\"Decompression Succesfull\")\n",
    "        else:\n",
    "            print(\"Decompression Fail\")\n",
    "        \n",
    "\n"
   ]
  },
  {
   "cell_type": "code",
   "execution_count": null,
   "metadata": {},
   "outputs": [],
   "source": []
  }
 ],
 "metadata": {
  "kernelspec": {
   "display_name": "Python 3",
   "language": "python",
   "name": "python3"
  },
  "language_info": {
   "codemirror_mode": {
    "name": "ipython",
    "version": 3
   },
   "file_extension": ".py",
   "mimetype": "text/x-python",
   "name": "python",
   "nbconvert_exporter": "python",
   "pygments_lexer": "ipython3",
   "version": "3.7.3"
  }
 },
 "nbformat": 4,
 "nbformat_minor": 2
}
